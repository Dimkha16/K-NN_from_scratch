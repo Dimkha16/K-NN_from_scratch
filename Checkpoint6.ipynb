{
 "cells": [
  {
   "cell_type": "markdown",
   "id": "9fa45464",
   "metadata": {},
   "source": [
    "# 1. HANDLE DATA"
   ]
  },
  {
   "cell_type": "code",
   "execution_count": 15,
   "id": "d626ccac",
   "metadata": {},
   "outputs": [
    {
     "name": "stdout",
     "output_type": "stream",
     "text": [
      "5.1, 3.5, 1.4, 0.2, Iris-setosa\n",
      "4.9, 3.0, 1.4, 0.2, Iris-setosa\n",
      "4.7, 3.2, 1.3, 0.2, Iris-setosa\n",
      "4.6, 3.1, 1.5, 0.2, Iris-setosa\n",
      "5.0, 3.6, 1.4, 0.2, Iris-setosa\n",
      "5.4, 3.9, 1.7, 0.4, Iris-setosa\n",
      "4.6, 3.4, 1.4, 0.3, Iris-setosa\n",
      "5.0, 3.4, 1.5, 0.2, Iris-setosa\n",
      "4.4, 2.9, 1.4, 0.2, Iris-setosa\n",
      "4.9, 3.1, 1.5, 0.1, Iris-setosa\n",
      "5.4, 3.7, 1.5, 0.2, Iris-setosa\n",
      "4.8, 3.4, 1.6, 0.2, Iris-setosa\n",
      "4.8, 3.0, 1.4, 0.1, Iris-setosa\n",
      "4.3, 3.0, 1.1, 0.1, Iris-setosa\n",
      "5.8, 4.0, 1.2, 0.2, Iris-setosa\n",
      "5.7, 4.4, 1.5, 0.4, Iris-setosa\n",
      "5.4, 3.9, 1.3, 0.4, Iris-setosa\n",
      "5.1, 3.5, 1.4, 0.3, Iris-setosa\n",
      "5.7, 3.8, 1.7, 0.3, Iris-setosa\n",
      "5.1, 3.8, 1.5, 0.3, Iris-setosa\n",
      "5.4, 3.4, 1.7, 0.2, Iris-setosa\n",
      "5.1, 3.7, 1.5, 0.4, Iris-setosa\n",
      "4.6, 3.6, 1.0, 0.2, Iris-setosa\n",
      "5.1, 3.3, 1.7, 0.5, Iris-setosa\n",
      "4.8, 3.4, 1.9, 0.2, Iris-setosa\n",
      "5.0, 3.0, 1.6, 0.2, Iris-setosa\n",
      "5.0, 3.4, 1.6, 0.4, Iris-setosa\n",
      "5.2, 3.5, 1.5, 0.2, Iris-setosa\n",
      "5.2, 3.4, 1.4, 0.2, Iris-setosa\n",
      "4.7, 3.2, 1.6, 0.2, Iris-setosa\n",
      "4.8, 3.1, 1.6, 0.2, Iris-setosa\n",
      "5.4, 3.4, 1.5, 0.4, Iris-setosa\n",
      "5.2, 4.1, 1.5, 0.1, Iris-setosa\n",
      "5.5, 4.2, 1.4, 0.2, Iris-setosa\n",
      "4.9, 3.1, 1.5, 0.1, Iris-setosa\n",
      "5.0, 3.2, 1.2, 0.2, Iris-setosa\n",
      "5.5, 3.5, 1.3, 0.2, Iris-setosa\n",
      "4.9, 3.1, 1.5, 0.1, Iris-setosa\n",
      "4.4, 3.0, 1.3, 0.2, Iris-setosa\n",
      "5.1, 3.4, 1.5, 0.2, Iris-setosa\n",
      "5.0, 3.5, 1.3, 0.3, Iris-setosa\n",
      "4.5, 2.3, 1.3, 0.3, Iris-setosa\n",
      "4.4, 3.2, 1.3, 0.2, Iris-setosa\n",
      "5.0, 3.5, 1.6, 0.6, Iris-setosa\n",
      "5.1, 3.8, 1.9, 0.4, Iris-setosa\n",
      "4.8, 3.0, 1.4, 0.3, Iris-setosa\n",
      "5.1, 3.8, 1.6, 0.2, Iris-setosa\n",
      "4.6, 3.2, 1.4, 0.2, Iris-setosa\n",
      "5.3, 3.7, 1.5, 0.2, Iris-setosa\n",
      "5.0, 3.3, 1.4, 0.2, Iris-setosa\n",
      "7.0, 3.2, 4.7, 1.4, Iris-versicolor\n",
      "6.4, 3.2, 4.5, 1.5, Iris-versicolor\n",
      "6.9, 3.1, 4.9, 1.5, Iris-versicolor\n",
      "5.5, 2.3, 4.0, 1.3, Iris-versicolor\n",
      "6.5, 2.8, 4.6, 1.5, Iris-versicolor\n",
      "5.7, 2.8, 4.5, 1.3, Iris-versicolor\n",
      "6.3, 3.3, 4.7, 1.6, Iris-versicolor\n",
      "4.9, 2.4, 3.3, 1.0, Iris-versicolor\n",
      "6.6, 2.9, 4.6, 1.3, Iris-versicolor\n",
      "5.2, 2.7, 3.9, 1.4, Iris-versicolor\n",
      "5.0, 2.0, 3.5, 1.0, Iris-versicolor\n",
      "5.9, 3.0, 4.2, 1.5, Iris-versicolor\n",
      "6.0, 2.2, 4.0, 1.0, Iris-versicolor\n",
      "6.1, 2.9, 4.7, 1.4, Iris-versicolor\n",
      "5.6, 2.9, 3.6, 1.3, Iris-versicolor\n",
      "6.7, 3.1, 4.4, 1.4, Iris-versicolor\n",
      "5.6, 3.0, 4.5, 1.5, Iris-versicolor\n",
      "5.8, 2.7, 4.1, 1.0, Iris-versicolor\n",
      "6.2, 2.2, 4.5, 1.5, Iris-versicolor\n",
      "5.6, 2.5, 3.9, 1.1, Iris-versicolor\n",
      "5.9, 3.2, 4.8, 1.8, Iris-versicolor\n",
      "6.1, 2.8, 4.0, 1.3, Iris-versicolor\n",
      "6.3, 2.5, 4.9, 1.5, Iris-versicolor\n",
      "6.1, 2.8, 4.7, 1.2, Iris-versicolor\n",
      "6.4, 2.9, 4.3, 1.3, Iris-versicolor\n",
      "6.6, 3.0, 4.4, 1.4, Iris-versicolor\n",
      "6.8, 2.8, 4.8, 1.4, Iris-versicolor\n",
      "6.7, 3.0, 5.0, 1.7, Iris-versicolor\n",
      "6.0, 2.9, 4.5, 1.5, Iris-versicolor\n",
      "5.7, 2.6, 3.5, 1.0, Iris-versicolor\n",
      "5.5, 2.4, 3.8, 1.1, Iris-versicolor\n",
      "5.5, 2.4, 3.7, 1.0, Iris-versicolor\n",
      "5.8, 2.7, 3.9, 1.2, Iris-versicolor\n",
      "6.0, 2.7, 5.1, 1.6, Iris-versicolor\n",
      "5.4, 3.0, 4.5, 1.5, Iris-versicolor\n",
      "6.0, 3.4, 4.5, 1.6, Iris-versicolor\n",
      "6.7, 3.1, 4.7, 1.5, Iris-versicolor\n",
      "6.3, 2.3, 4.4, 1.3, Iris-versicolor\n",
      "5.6, 3.0, 4.1, 1.3, Iris-versicolor\n",
      "5.5, 2.5, 4.0, 1.3, Iris-versicolor\n",
      "5.5, 2.6, 4.4, 1.2, Iris-versicolor\n",
      "6.1, 3.0, 4.6, 1.4, Iris-versicolor\n",
      "5.8, 2.6, 4.0, 1.2, Iris-versicolor\n",
      "5.0, 2.3, 3.3, 1.0, Iris-versicolor\n",
      "5.6, 2.7, 4.2, 1.3, Iris-versicolor\n",
      "5.7, 3.0, 4.2, 1.2, Iris-versicolor\n",
      "5.7, 2.9, 4.2, 1.3, Iris-versicolor\n",
      "6.2, 2.9, 4.3, 1.3, Iris-versicolor\n",
      "5.1, 2.5, 3.0, 1.1, Iris-versicolor\n",
      "5.7, 2.8, 4.1, 1.3, Iris-versicolor\n",
      "6.3, 3.3, 6.0, 2.5, Iris-virginica\n",
      "5.8, 2.7, 5.1, 1.9, Iris-virginica\n",
      "7.1, 3.0, 5.9, 2.1, Iris-virginica\n",
      "6.3, 2.9, 5.6, 1.8, Iris-virginica\n",
      "6.5, 3.0, 5.8, 2.2, Iris-virginica\n",
      "7.6, 3.0, 6.6, 2.1, Iris-virginica\n",
      "4.9, 2.5, 4.5, 1.7, Iris-virginica\n",
      "7.3, 2.9, 6.3, 1.8, Iris-virginica\n",
      "6.7, 2.5, 5.8, 1.8, Iris-virginica\n",
      "7.2, 3.6, 6.1, 2.5, Iris-virginica\n",
      "6.5, 3.2, 5.1, 2.0, Iris-virginica\n",
      "6.4, 2.7, 5.3, 1.9, Iris-virginica\n",
      "6.8, 3.0, 5.5, 2.1, Iris-virginica\n",
      "5.7, 2.5, 5.0, 2.0, Iris-virginica\n",
      "5.8, 2.8, 5.1, 2.4, Iris-virginica\n",
      "6.4, 3.2, 5.3, 2.3, Iris-virginica\n",
      "6.5, 3.0, 5.5, 1.8, Iris-virginica\n",
      "7.7, 3.8, 6.7, 2.2, Iris-virginica\n",
      "7.7, 2.6, 6.9, 2.3, Iris-virginica\n",
      "6.0, 2.2, 5.0, 1.5, Iris-virginica\n",
      "6.9, 3.2, 5.7, 2.3, Iris-virginica\n",
      "5.6, 2.8, 4.9, 2.0, Iris-virginica\n",
      "7.7, 2.8, 6.7, 2.0, Iris-virginica\n",
      "6.3, 2.7, 4.9, 1.8, Iris-virginica\n",
      "6.7, 3.3, 5.7, 2.1, Iris-virginica\n",
      "7.2, 3.2, 6.0, 1.8, Iris-virginica\n",
      "6.2, 2.8, 4.8, 1.8, Iris-virginica\n",
      "6.1, 3.0, 4.9, 1.8, Iris-virginica\n",
      "6.4, 2.8, 5.6, 2.1, Iris-virginica\n",
      "7.2, 3.0, 5.8, 1.6, Iris-virginica\n",
      "7.4, 2.8, 6.1, 1.9, Iris-virginica\n",
      "7.9, 3.8, 6.4, 2.0, Iris-virginica\n",
      "6.4, 2.8, 5.6, 2.2, Iris-virginica\n",
      "6.3, 2.8, 5.1, 1.5, Iris-virginica\n",
      "6.1, 2.6, 5.6, 1.4, Iris-virginica\n",
      "7.7, 3.0, 6.1, 2.3, Iris-virginica\n",
      "6.3, 3.4, 5.6, 2.4, Iris-virginica\n",
      "6.4, 3.1, 5.5, 1.8, Iris-virginica\n",
      "6.0, 3.0, 4.8, 1.8, Iris-virginica\n",
      "6.9, 3.1, 5.4, 2.1, Iris-virginica\n",
      "6.7, 3.1, 5.6, 2.4, Iris-virginica\n",
      "6.9, 3.1, 5.1, 2.3, Iris-virginica\n",
      "5.8, 2.7, 5.1, 1.9, Iris-virginica\n",
      "6.8, 3.2, 5.9, 2.3, Iris-virginica\n",
      "6.7, 3.3, 5.7, 2.5, Iris-virginica\n",
      "6.7, 3.0, 5.2, 2.3, Iris-virginica\n",
      "6.3, 2.5, 5.0, 1.9, Iris-virginica\n",
      "6.5, 3.0, 5.2, 2.0, Iris-virginica\n",
      "6.2, 3.4, 5.4, 2.3, Iris-virginica\n",
      "5.9, 3.0, 5.1, 1.8, Iris-virginica\n"
     ]
    }
   ],
   "source": [
    "import csv\n",
    "with open('iris.data.txt', 'r') as csvfile:\n",
    "    lines = csv.reader(csvfile)\n",
    "    for row in lines :\n",
    "        print (', '.join(row))\n",
    "    "
   ]
  },
  {
   "cell_type": "code",
   "execution_count": 177,
   "id": "35302f0d",
   "metadata": {},
   "outputs": [
    {
     "name": "stdout",
     "output_type": "stream",
     "text": [
      "Train: 378\n",
      "Test: 218\n"
     ]
    }
   ],
   "source": [
    "import csv\n",
    "import random\n",
    "def loadDataset(filename,split,trainingSet=[],testSet=[]):\n",
    "    with open(filename, 'r') as csvfile:\n",
    "        lines = csv.reader(csvfile)\n",
    "        dataset = list(lines)\n",
    "        for x in range(len(dataset)-1):\n",
    "            for y in range(4):\n",
    "                dataset[x][y] = float(dataset[x][y])\n",
    "                if random.random() < split:\n",
    "                    trainingSet.append(dataset[x][y])\n",
    "                else:\n",
    "                    testSet.append(dataset[x][y])\n",
    "\n",
    "#We can test this function out with our iris dataset, as follows:\n",
    "\n",
    "trainingSet=[]\n",
    "\n",
    "testSet=[]\n",
    "\n",
    "\n",
    "loadDataset('iris.data.txt', 0.66, trainingSet, testSet)\n",
    "\n",
    "print ('Train: ' + repr(len(trainingSet)))\n",
    "\n",
    "print ('Test: ' + repr(len(testSet)))"
   ]
  },
  {
   "cell_type": "markdown",
   "id": "d853e713",
   "metadata": {},
   "source": [
    "# 2. SIMILITUDE"
   ]
  },
  {
   "cell_type": "code",
   "execution_count": 172,
   "id": "65514b05",
   "metadata": {},
   "outputs": [
    {
     "name": "stdout",
     "output_type": "stream",
     "text": [
      "Distance: 3.4641016151377544\n"
     ]
    }
   ],
   "source": [
    "import math\n",
    "\n",
    "def euclideanDistance(instance1, instance2, length):\n",
    "    \n",
    "    distance=0\n",
    "    \n",
    "    for i in range (length):\n",
    "        \n",
    "        distance = distance + math.pow(instance1[i]-instance2[i],2)\n",
    "    \n",
    "    distance = math.sqrt(distance)\n",
    "    \n",
    "    return distance\n",
    "\n",
    "data1 = [2, 2, 2, 'a']\n",
    "\n",
    "data2 = [4, 4, 4, 'b']\n",
    "\n",
    "distance = euclideanDistance(data1, data2, 3)\n",
    "\n",
    "print ('Distance: ' + repr(distance))"
   ]
  },
  {
   "cell_type": "markdown",
   "id": "02cb3303",
   "metadata": {},
   "source": [
    "# 3. VOISINS"
   ]
  },
  {
   "cell_type": "code",
   "execution_count": 51,
   "id": "33dc9ea1",
   "metadata": {},
   "outputs": [
    {
     "name": "stdout",
     "output_type": "stream",
     "text": [
      "[[4, 4, 4, 'b']]\n"
     ]
    }
   ],
   "source": [
    "import operator\n",
    "\n",
    "def getNeighbors(trainingSet, testInstance, k):\n",
    "    \n",
    "    distances = []\n",
    "    \n",
    "    length = len(testInstance)-1\n",
    "    \n",
    "    for x in range(len(trainingSet)):\n",
    "        \n",
    "        dist = euclideanDistance(testInstance, trainingSet[x], length)\n",
    "        \n",
    "        distances.append((trainingSet[x], dist))\n",
    "        \n",
    "        distances.sort(key=operator.itemgetter(1))\n",
    "        \n",
    "    neighbors = []\n",
    "    \n",
    "    for x in range(k):\n",
    "        \n",
    "        neighbors.append(distances[x][0])\n",
    "        \n",
    "        return neighbors\n",
    "\n",
    "# We can test out this function as follows:\n",
    "\n",
    "trainSet = [[2, 2, 2, 'a'], [4, 4, 4, 'b']]\n",
    "\n",
    "testInstance = [5, 5, 5]\n",
    "\n",
    "k = 1\n",
    "\n",
    "neighbors = getNeighbors(trainSet, testInstance, k)\n",
    "\n",
    "print(neighbors)"
   ]
  },
  {
   "cell_type": "markdown",
   "id": "68c565c5",
   "metadata": {},
   "source": [
    "# 4. RESPONSE"
   ]
  },
  {
   "cell_type": "code",
   "execution_count": 130,
   "id": "10c836d1",
   "metadata": {},
   "outputs": [
    {
     "name": "stdout",
     "output_type": "stream",
     "text": [
      "a\n"
     ]
    }
   ],
   "source": [
    "import operator\n",
    "\n",
    "def getResponse(neighbors):\n",
    "    \n",
    "    #classVotes = {0:'Iris-setosa',1:'Iris-versicolor',2:'Iris-virginica'}\n",
    "    \n",
    "    classVotes = {'a':0,'b':0}\n",
    "    \n",
    "    for x in range(len(neighbors)):\n",
    "        \n",
    "        response = neighbors[x][3] #complete with appropriate number\n",
    "        \n",
    "        if response in classVotes:\n",
    "            \n",
    "            classVotes[response]+=1\n",
    "            \n",
    "    \n",
    "    sortedVotes = sorted(classVotes.items(), key=operator.itemgetter(1), reverse=True)\n",
    "    \n",
    "    return sortedVotes[0][0]\n",
    "\n",
    "# We can test out this function with some test neighbors, as follows:\n",
    "\n",
    "neighbors = [[1,1,1,'a'], [2,2,2,'a'], [3,3,3,'b']]\n",
    "\n",
    "response = getResponse(neighbors)\n",
    "\n",
    "print(response) "
   ]
  },
  {
   "cell_type": "markdown",
   "id": "9b3c9292",
   "metadata": {},
   "source": [
    "# 5. PRECISION"
   ]
  },
  {
   "cell_type": "code",
   "execution_count": 138,
   "id": "b814f83d",
   "metadata": {},
   "outputs": [
    {
     "name": "stdout",
     "output_type": "stream",
     "text": [
      "66.66666666666666\n"
     ]
    }
   ],
   "source": [
    "def getAccuracy(testSet, predictions):\n",
    "    \n",
    "    # Complete the function\n",
    "    correct=0\n",
    "    for i in range(len(testSet)):\n",
    "        \n",
    "        if predictions[i]==testSet[i][3]:\n",
    "            correct+=1\n",
    "    \n",
    "    return (correct/float(len(testSet))) * 100.0\n",
    "\n",
    "# We can test this function with a test dataset and predictions, as follows:\n",
    "\n",
    "testSet = [[1,1,1,'a'], [2,2,2,'a'], [3,3,3,'b']]\n",
    "\n",
    "predictions = ['a', 'a', 'a']\n",
    "\n",
    "accuracy = getAccuracy(testSet, predictions)\n",
    "\n",
    "print(accuracy)"
   ]
  },
  {
   "cell_type": "markdown",
   "id": "df8bb850",
   "metadata": {},
   "source": [
    "# 6. MAIN"
   ]
  },
  {
   "cell_type": "code",
   "execution_count": 189,
   "id": "dfed3b41",
   "metadata": {},
   "outputs": [
    {
     "name": "stdout",
     "output_type": "stream",
     "text": [
      "66.66666666666666\n"
     ]
    }
   ],
   "source": [
    "def main_function(trainingSet, testInstance, k,testSet, predictions):\n",
    "    \n",
    "    neighbors = getNeighbors(trainSet, testInstance, k)\n",
    "    \n",
    "    accuracy = getAccuracy(testSet, predictions)\n",
    "    \n",
    "    return accuracy\n",
    "    \n",
    "k=2\n",
    "    \n",
    "trainSet = [[2, 2, 2, 'a'], [4, 4, 4, 'b']]\n",
    "\n",
    "testInstance = [[5, 5, 5],[6,7,8]]\n",
    "    \n",
    "testSet = [[1,1,1,'a'], [2,2,2,'a'], [3,3,3,'b']]\n",
    "\n",
    "predictions = ['a', 'a', 'a']\n",
    "\n",
    "accuracy = main_function(trainingSet, testInstance, k,testSet, predictions)  \n",
    "\n",
    "print(accuracy)"
   ]
  },
  {
   "cell_type": "markdown",
   "id": "a1a6dcf5",
   "metadata": {},
   "source": [
    "# 7. AUTRE METHODE DE CALCUL DE DISTANCE (MANHATTAN)"
   ]
  },
  {
   "cell_type": "code",
   "execution_count": 187,
   "id": "bab361e9",
   "metadata": {},
   "outputs": [
    {
     "name": "stdout",
     "output_type": "stream",
     "text": [
      "Distance: 5.0990195135927845\n"
     ]
    }
   ],
   "source": [
    "import math\n",
    "\n",
    "def manhattanDistance(instance1, instance2, length):\n",
    "    \n",
    "    distance=0\n",
    "    \n",
    "    for i in range (length):\n",
    "        \n",
    "        distance = distance + abs(instance1[i]-instance2[i])\n",
    "    \n",
    "    distance = math.sqrt(distance)\n",
    "    \n",
    "    return distance\n",
    "\n",
    "data1 = [3, 5, 7, 'a']\n",
    "\n",
    "data2 = [4, 9, 4, 'b']\n",
    "\n",
    "distance = euclideanDistance(data1, data2, 3)\n",
    "\n",
    "print ('Distance: ' + repr(distance))"
   ]
  },
  {
   "cell_type": "code",
   "execution_count": null,
   "id": "94e64829",
   "metadata": {},
   "outputs": [],
   "source": []
  }
 ],
 "metadata": {
  "kernelspec": {
   "display_name": "Python 3",
   "language": "python",
   "name": "python3"
  },
  "language_info": {
   "codemirror_mode": {
    "name": "ipython",
    "version": 3
   },
   "file_extension": ".py",
   "mimetype": "text/x-python",
   "name": "python",
   "nbconvert_exporter": "python",
   "pygments_lexer": "ipython3",
   "version": "3.8.8"
  }
 },
 "nbformat": 4,
 "nbformat_minor": 5
}
